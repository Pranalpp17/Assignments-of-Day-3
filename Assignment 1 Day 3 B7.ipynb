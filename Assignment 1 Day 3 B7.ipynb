{
 "cells": [
  {
   "cell_type": "markdown",
   "metadata": {},
   "source": [
    "# Assignment 1 Day 3 B7\n",
    " \n",
    " Landing palne safely"
   ]
  },
  {
   "cell_type": "code",
   "execution_count": 7,
   "metadata": {},
   "outputs": [
    {
     "name": "stdout",
     "output_type": "stream",
     "text": [
      "Please enter the landing altitude for plane\n",
      "5000\n",
      "Bring down the plane to 1000 ft\n"
     ]
    }
   ],
   "source": [
    "# Landing plane safely\n",
    "\n",
    "print(\"Please enter the landing altitude for plane\")\n",
    "speed=int(input())\n",
    " \n",
    "if speed<=1000:\n",
    "    print(\"Plane is safe to land\")\n",
    "elif speed<=5000:\n",
    "    print(\"Bring down the plane to 1000 ft\")\n",
    "else:\n",
    "    print(\"Turn it over and attempt later\")"
   ]
  },
  {
   "cell_type": "code",
   "execution_count": null,
   "metadata": {},
   "outputs": [],
   "source": []
  },
  {
   "cell_type": "code",
   "execution_count": null,
   "metadata": {},
   "outputs": [],
   "source": []
  },
  {
   "cell_type": "code",
   "execution_count": null,
   "metadata": {},
   "outputs": [],
   "source": []
  }
 ],
 "metadata": {
  "kernelspec": {
   "display_name": "Python 3",
   "language": "python",
   "name": "python3"
  },
  "language_info": {
   "codemirror_mode": {
    "name": "ipython",
    "version": 3
   },
   "file_extension": ".py",
   "mimetype": "text/x-python",
   "name": "python",
   "nbconvert_exporter": "python",
   "pygments_lexer": "ipython3",
   "version": "3.8.3"
  }
 },
 "nbformat": 4,
 "nbformat_minor": 4
}
